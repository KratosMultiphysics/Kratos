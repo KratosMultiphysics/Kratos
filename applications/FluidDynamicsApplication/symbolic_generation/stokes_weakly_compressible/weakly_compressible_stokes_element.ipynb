{
 "cells": [
  {
   "cell_type": "markdown",
   "metadata": {},
   "source": [
    "# Weakly Compressible Stokes implementation\n",
    "Riccardo Rossi\n",
    "UPC BarcelonaTech, CIMNE\n",
    "\n",
    "\n",
    "the Stokes equations are\n",
    "\n",
    "$\\frac{\\partial\\rho u}{\\partial t}-\\nabla\\cdot\\mathbf{C}\\nabla^{s}\\mathbf{u}+\\nabla p=f$\n",
    "\n",
    "\n",
    "$\\frac{\\partial\\rho}{\\partial t}+k\\nabla\\cdot\\left(\\rho\\mathbf{\\mathbf{u}}\\right)=0\n",
    "\\longrightarrow \n",
    "\\frac{\\partial\\rho}{\\partial p}\\frac{\\partial p}{\\partial t}+\\nabla\\cdot\\left(\\rho\\mathbf{\\mathbf{u}}\\right)=0\n",
    "\\longrightarrow \n",
    "\\frac{1}{k}\\frac{\\partial p}{\\partial t}+\\nabla\\cdot\\left(\\rho\\mathbf{\\mathbf{u}}\\right)=0\n",
    "$\n",
    "\n",
    "where $\\mathbf{u}$ is the velocity, $p$ is the pressure, $\\rho$ the density, $\\mathbf{C}$ is an appropriate constitutive tensor and $k:=\\frac{\\partial p}{\\partial \\rho}$ is the bulk modulus (which may have a non linear dependency on the other parameters)\n"
   ]
  },
  {
   "cell_type": "markdown",
   "metadata": {},
   "source": [
    "## Discretization\n",
    "we consider the following (multiscale) decomposition\n",
    "\n",
    "$\\mathbf{u}=\\mathbf{u_{h}}+\\mathbf{u}_{s}$\n",
    "\n",
    "$p=p_{h}+p_{s}$\n",
    "\n",
    "where $\\mathbf{u_{\\mathbf{h}}}$ and $p_h$ belong to the finite element space."
   ]
  },
  {
   "cell_type": "markdown",
   "metadata": {},
   "source": [
    "If we now apply the Galerkin method and test the initial equations\n",
    "by $w$ and $q$, we obtain\n",
    "\n",
    "$\\left(\\mathbf{w},f-\\frac{\\partial\\rho(\\mathbf{u})}{\\partial t}+\\nabla\\cdot\\mathbf{C}\\nabla^{s}\\mathbf{u}-\\nabla p\\right)+\\left(q,-\\frac{1}{k}\\frac{\\partial p}{\\partial t}-\\nabla\\cdot\\left(\\rho\\mathbf{\\mathbf{u}}\\right)\\right)=0$\n"
   ]
  },
  {
   "cell_type": "markdown",
   "metadata": {},
   "source": [
    "substituting the proposed decomposition\n",
    "\n",
    "$\\left(\\mathbf{w},f-\\frac{\\partial\\rho(\\mathbf{u_{h}+\\mathbf{u}_{s}})}{\\partial t}+\\nabla\\cdot\\mathbf{C}\\nabla^{s}\\left(\\mathbf{u}_{h}+\\mathbf{u_{s}}\\right)-\\nabla(p_{h}+p_{s})\\right) \n",
    "+\\left(q,-\\frac{1}{k}\\frac{\\partial p_h + p_s}{\\partial t}-\\nabla\\cdot\\left(\\mathbf{\\rho u}_{h}\\mathbf{+\\rho u}_{s}\\right)\\right) =0\n",
    "$\n"
   ]
  },
  {
   "cell_type": "markdown",
   "metadata": {},
   "source": [
    "we can now focus on the different terms, and integrate by parts as needed to get\n",
    "\n",
    "$\n",
    "\\left(\\mathbf{w},\\nabla\\cdot C\\nabla^{s}\\left(\\mathbf{u}_{h}+\\mathbf{u_{s}}\\right)\\right)=-\\left(\\mathbf{\\nabla w},C\\nabla^{s}\\mathbf{u}_{h}\\right)+\\int_{\\Gamma}\\mathbf{w}\\cdot C\\nabla^{s}\\mathbf{u}_{h}\\mathbf{\\cdot n}+  \\left(\\mathbf{w},2\\nabla\\cdot\\mu\\nabla^{s}\\mathbf{u_{s}}\\right)\n",
    "$\n"
   ]
  },
  {
   "cell_type": "markdown",
   "metadata": {},
   "source": [
    "and\n",
    "\n",
    "$\n",
    "\\left(\\mathbf{w},-\\nabla(p_{h}+p_{s})\\right) =\\left(\\mathbf{\\nabla\\cdot w},p_{h}+p_{s}\\right)-\\int_{\\Gamma}p_{h}\\mathbf{w}\\mathbf{\\cdot n}\n",
    "$\n",
    "\n",
    "note that the boundary terms on $\\mathbf{u}_s$ $p_{s}$ are dropped after integration by parts since it is __assumed__ that they vanish on the interelement boundaries\n"
   ]
  },
  {
   "cell_type": "markdown",
   "metadata": {},
   "source": [
    "similarly, working on the terms corresponding to the mass conservation equation we get\n",
    "\n",
    "$\n",
    "\\left(q,-\\frac{1}{k}\\frac{\\partial p}{\\partial t}\n",
    "-\\nabla\\cdot\\left(\\mathbf{\\rho u}_{h}\\mathbf{+\\rho u}_{s}\\right)\\right) \n",
    "=\\left(q,-\\frac{1}{k}\\frac{\\partial p_h}{\\partial t}-\\nabla\\cdot\\left(\\mathbf{\\rho u}_{h}\\right)\\right)\n",
    "+\\left(\\nabla q,\\mathbf{\\rho u}_{s}\\right)\n",
    "-\\left(q,\\frac{1}{k}\\frac{\\partial p_s}{\\partial t}\\right)\n",
    "$"
   ]
  },
  {
   "cell_type": "markdown",
   "metadata": {},
   "source": [
    "adding everything together, the Galerkin discretization becomes \n",
    "\n",
    "$\n",
    "\\left(\\mathbf{w},f\\right)\n",
    "-\\left(\\mathbf{w},\\frac{\\partial\\rho\\mathbf{u_{h}}}{\\partial t}\\right)\n",
    "-\\left(\\mathbf{\\nabla w},C\\nabla^{s}\\mathbf{u}_{h}\\right)\n",
    "+\\int_{\\Gamma}\\mathbf{w}\\cdot2\\mu\\nabla^{s}\\mathbf{u}_{h}\\mathbf{\\cdot n}\n",
    "+\\left(\\mathbf{\\nabla\\cdot w},p_{h}\\right)\n",
    "+\\left(q,-\\frac{1}{k}\\frac{\\partial p_h}{\\partial t}-\\nabla\\cdot\\left(\\mathbf{\\rho u}_{h}\\right)\\right)\n",
    "-\\int_{\\Gamma}\\mathbf{w}\\mathbf{p_h\\cdot n}\n",
    "$\n",
    "\n",
    "$+$\n",
    "\n",
    "$\n",
    "\\left(\\mathbf{\\nabla\\cdot w},p_{s}\\right) \n",
    "+\\left(\\nabla q,\\mathbf{\\rho u}_{s}\\right)\n",
    "-\\left(q,-\\frac{1}{k}\\frac{\\partial p_s}{\\partial t}\\right)\n",
    "-\\left(\\mathbf{w},\\frac{\\partial\\rho\\mathbf{u_{s}}}{\\partial t}\\right)\n",
    "$"
   ]
  },
  {
   "cell_type": "markdown",
   "metadata": {},
   "source": [
    "### Introducing ASGS multiscale **quasi-static** model\n",
    "\n",
    "We now need to introduce a model for the subscales (**ASGS**)\n",
    "\n",
    " $\\rho \\mathbf{u}_{s}=\\tau_{1}\\left(\\mathbf{f}-\\frac{\\partial\\rho\\mathbf{u}_{\\mathbf{h}}}{\\partial t}-\\nabla p_{h}\\right)$ **NOTE:** we are modelling $\\rho \\mathbf{u}_s$ not just $\\mathbf{u}_s$\n",
    "\n",
    "$p_{s}=\\tau_{2}\\left(-\\frac{\\partial p_h}{\\partial t}-k\\nabla\\cdot\\left(\\mathbf{\\rho u}_{h}\\right)\\right)$\n",
    "\n",
    "It is customary to assume that the time step chosen in the simulation is sufficiently large to consider\n",
    "as quasi-static the response of the subgrid-scale terms. For this reason, \n",
    "we will make the approximation $\\frac{\\partial\\rho \\mathbf{u}_{s}}{\\partial t}\\approx\\mathbf{0}$ and $\\frac{\\partial p_s}{\\partial t}\\approx\\mathbf{0}$ \n",
    "(quasi-static subscales) \n",
    "\n",
    "We remark here that if we use linear elements, all higher-than-one order derivatives of finite element functions within each element can be discarded, which also justifies why the viscous term was neglected in the model of the subscale velocity\n",
    "\n",
    "\n",
    "$\\mathbf{\\left(\\mathbf{w},\\nabla\\cdot\\mathbf{C}\\nabla^{s}\\mathbf{u_{s}}\\right)}=-\\mathbf{\\left(\\mathbf{\\nabla w},\\mathbf{C}\\nabla^{s}\\mathbf{u_{s}}\\right)+\\int_{\\Gamma}...}\\approx0$\n"
   ]
  },
  {
   "cell_type": "markdown",
   "metadata": {},
   "source": [
    "The final, stabilized, form is obtained by replacing the subscale model into the discrete galerkin equation\n",
    "\n",
    "$\\left(\\mathbf{\\nabla\\cdot w},p_{s}\\right)\\rightarrow \\left(\\nabla\\cdot\\mathbf{w},\\tau_{2}\\left(-\\frac{1}{k}\\frac{\\partial p_h}{\\partial t}-\\nabla\\cdot\\left(\\mathbf{\\rho u}_{h}\\right)\\right)\\right)$\n",
    "\n",
    "Pressure Equation Terms\n",
    "\n",
    "$\\left(\\nabla q,\\rho\\mathbf{u_{s}}\\right)\\rightarrow\\left(\\nabla q,\\tau_{1}\\left(\\mathbf{f}-\\frac{\\partial\\rho\\mathbf{u}_{h}}{\\partial t}-\\nabla p_{h}\\right)\\right)$\n"
   ]
  },
  {
   "cell_type": "markdown",
   "metadata": {},
   "source": [
    "## SYMBOLS TO BE EMPLOYED\n",
    "Shape functions $N_{I}$ and derivatives $\\nabla N_{I}$stored respectively\n",
    "in a vector $\\mathbf{N}$and a matrix $\\mathbf{DN}$\n"
   ]
  },
  {
   "cell_type": "markdown",
   "metadata": {},
   "source": [
    "we also introduce the constitutive matrix $\\mathbf{C}$(symmetric\n",
    "6x6 in 3D) and the matrix $\\mathbf{B}$ (6x12 for a tetra) such\n",
    "that $\\sigma=\\mathbf{B}\\epsilon$"
   ]
  },
  {
   "cell_type": "code",
   "execution_count": 68,
   "metadata": {
    "collapsed": false
   },
   "outputs": [],
   "source": [
    "from sympy import *\n",
    "\n",
    "import sys\n",
    "sys.path.append(\"../../../../kratos/python_scripts/\")\n",
    "\n",
    "from KratosMultiphysics import *\n",
    "from sympy_fe_utilities import *\n",
    "\n",
    "do_simplifications = False\n",
    "dim = 3 #spatial dimensions\n",
    "mode = \"c\" #to output to a c++ file\n",
    "\n",
    "if(dim == 2):\n",
    "    nnodes = 3\n",
    "    strain_size = 3\n",
    "else:\n",
    "    nnodes = 4\n",
    "    strain_size = 6   \n",
    "\n",
    "\n",
    "impose_partion_of_unity = False\n",
    "N,DN = DefineShapeFunctions(nnodes, dim, impose_partion_of_unity)\n",
    "\n",
    "#defining the unknowns\n",
    "v = DefineMatrix('v',nnodes,dim)     #v(i,j) is velocity of node i component j\n",
    "vn = DefineMatrix('vn',nnodes,dim)   #velocity one step back\n",
    "vnn = DefineMatrix('vnn',nnodes,dim) #velocity two step back\n",
    "p = DefineVector('p',nnodes)         #p[i] is the pressure of node i at the current step\n",
    "pn = DefineVector('pn',nnodes)       #old step pressures\n",
    "pnn = DefineVector('pnn',nnodes)     #pressures two step back\n",
    "r = DefineVector('r',nnodes)         #r[i] = density of node i on the current step\n",
    "rn = DefineVector('rn',nnodes)       #rn[i] = density of node i one step back\n",
    "rnn = DefineVector('rnn',nnodes)     #rn[i] = density of node i one step back\n",
    "k = Symbol(\"k\")                      #bulk modulus on gauss\n",
    "\n",
    "#define test functions\n",
    "w = DefineMatrix('w',nnodes,dim)     #w[i,j] = velocity test function, node i, component j\n",
    "q = DefineVector('q',nnodes)         #p[i] = pressure test function, node i\n",
    "\n",
    "#define other nodally varying data\n",
    "f = DefineMatrix('f',nnodes,dim)     #f[i,j] = force, node i, component j\n",
    "\n",
    "#constitutive matrix\n",
    "C = DefineSymmetricMatrix('C',strain_size,strain_size) #constitutive tensor in Voigt Format\n",
    "    \n",
    "#define other symbols\n",
    "tau1 = Symbol('tau1', positive=True) \n",
    "tau2 = 0.0 #Symbol('tau2')\n",
    "\n",
    "bdf0 = Symbol('bdf0') #coefficients used by the time scheme\n",
    "bdf1 = Symbol('bdf1')\n",
    "bdf2 = Symbol('bdf2')\n",
    "\n",
    "#computing gradients\n",
    "grad_v = DN.transpose()*v #gradient of velocity\n",
    "grad_q = DN.transpose()*q #gradient of the pressure test function\n",
    "grad_p = DN.transpose()*p  #gradient of pressure\n",
    "\n",
    "#here we define a variable \"stress\" which will be used as such in the calculation of the RHS\n",
    "#when calculating the LHS, we will assume that stress = C*strain\n",
    "if(dim == 2):\n",
    "    stress = DefineVector('stress',3) \n",
    "\n",
    "elif(dim == 3):\n",
    "    stress = DefineVector('stress',6)\n",
    "\n",
    "B = MatrixB(DN)\n",
    "grad_sym_f = grad_sym_voigtform(DN,f)\n",
    "\n",
    "rho_v = DefineMatrix('rho_v',nnodes,dim)     #auxiliary value containing rho*v\n",
    "DrhovDt = DefineMatrix('DrhovDt',nnodes,dim) #contains d(rho*v)/dt\n",
    "DpDt = DefineVector('DpDt',nnodes)           #contains dp/dt\n",
    "for i in range(nnodes):\n",
    "    DpDt[i] = bdf0*p[i]+bdf1*pn[i]+bdf2*pnn[i]\n",
    "    for j in range(dim):\n",
    "        rho_v[i,j] = r[i]*v[i,j]\n",
    "        DrhovDt[i,j] = bdf0*r[i]*v[i,j]+bdf1*rn[i]*vn[i,j]+bdf2*rnn[i]*vnn[i,j]\n",
    "\n",
    "div_rhov = div(DN,rho_v)               #divergence of rho*v\n",
    "div_w = div(DN,w)                      #divergence of the test function w\n",
    "grad_sym_w = grad_sym_voigtform(DN,w)  #symmetric gradient of w (in voigt form)\n",
    "\n",
    "#values interpolated on the gauss point\n",
    "DrhovDt_gauss = DrhovDt.transpose()*N  \n",
    "DpDt_gauss = DpDt.transpose()*N \n",
    "wgauss = w.transpose()*N \n",
    "qgauss = q.transpose()*N\n",
    "pgauss = p.transpose()*N\n",
    "fgauss = f.transpose()*N\n",
    "\n",
    "vector_of_ones = DefineVector('vector_of_ones',dim)\n",
    "for i in range(dim):\n",
    "    vector_of_ones[i] = 1.0\n",
    "    \n"
   ]
  },
  {
   "cell_type": "markdown",
   "metadata": {},
   "source": [
    "## IMPLEMENTATION - GALERKIN PART\n",
    "The term\n",
    "\n",
    "$\\left(\\mathbf{w},f-\\frac{\\partial\\rho u_{h}}{\\partial t}\\right)\n",
    "-\\left(\\nabla^s\\mathbf{w},\\mathbf{\\sigma}\\right)\n",
    "+\\left(\\nabla\\cdot \\mathbf{w},p_{h}\\right)\n",
    "+\n",
    "\\left(q,-\\frac{1}{k}\\frac{\\partial p_h}{\\partial t}-\\nabla\\cdot\\left(\\mathbf{\\rho u}_{h}\\right)\\right)\n",
    "$\n",
    "\n",
    "Is implemented on each gauss point as"
   ]
  },
  {
   "cell_type": "code",
   "execution_count": 69,
   "metadata": {
    "collapsed": false
   },
   "outputs": [],
   "source": [
    "rv_galerkin =  wgauss.transpose()*(fgauss) \\\n",
    "    - wgauss.transpose()*DrhovDt_gauss  \\\n",
    "    - grad_sym_w.transpose()*stress +  div_w*pgauss        \\\n",
    "    - qgauss*(div_rhov) \\\n",
    "    - 1/k*qgauss.transpose()*DpDt_gauss\n",
    "    \n"
   ]
  },
  {
   "cell_type": "markdown",
   "metadata": {},
   "source": [
    "\n",
    "## IMPLEMENTATION-STABILIZATION PART\n",
    "\n",
    "The stabilization terms to be implemented are:\n",
    "\n",
    "$\n",
    "\\left(\\nabla\\cdot\\mathbf{w},\\tau_{2}\\left(-\\frac{1}{k}\\frac{\\partial p_h}{\\partial t}-\\nabla\\cdot\\left(\\mathbf{\\rho u}_{h}\\right)\\right)\\right) \n",
    "+\n",
    "\\left(\\nabla q,\\tau_{1}\\left(\\mathbf{f}-\\frac{\\partial\\rho\\mathbf{u}_{h}}{\\partial t}-\\nabla p_{h}\\right)\\right)$\n"
   ]
  },
  {
   "cell_type": "markdown",
   "metadata": {},
   "source": [
    "which is implemented as"
   ]
  },
  {
   "cell_type": "code",
   "execution_count": 70,
   "metadata": {
    "collapsed": true
   },
   "outputs": [],
   "source": [
    "rv_stab = div_w*tau2*(-1/k*DpDt_gauss-div_rhov) \\\n",
    "        +  grad_q.transpose()*(tau1*(fgauss - DrhovDt_gauss - grad_p) ) \n",
    "    \n",
    "##TOTAL RESIDUAL\n",
    "rv = rv_galerkin + rv_stab\n"
   ]
  },
  {
   "cell_type": "markdown",
   "metadata": {},
   "source": [
    "## DEFINE TEST FUNCTIONS AND DOFS AND COMPTUE THE FEM RHS"
   ]
  },
  {
   "cell_type": "code",
   "execution_count": 71,
   "metadata": {
    "collapsed": false
   },
   "outputs": [
    {
     "name": "stdout",
     "output_type": "stream",
     "text": [
      "dofs =  Matrix([[v_0_0], [v_0_1], [v_0_2], [p_0], [v_1_0], [v_1_1], [v_1_2], [p_1], [v_2_0], [v_2_1], [v_2_2], [p_2], [v_3_0], [v_3_1], [v_3_2], [p_3]])\n"
     ]
    }
   ],
   "source": [
    "\n",
    "#define dofs & test function vector\n",
    "dofs = Matrix( zeros(nnodes*(dim+1), 1) )\n",
    "testfunc = Matrix( zeros(nnodes*(dim+1), 1) )\n",
    "for i in range(0,nnodes):\n",
    "    for k in range(0,dim):\n",
    "        dofs[i*(dim+1)+k] = v[i,k]\n",
    "        testfunc[i*(dim+1)+k] = w[i,k]\n",
    "    dofs[i*(dim+1)+dim] = p[i,0]\n",
    "    testfunc[i*(dim+1)+dim] = q[i,0]\n",
    "print(\"dofs = \",dofs)\n",
    "\n",
    "#here we derive the functional by the test functions, thus computing the FEM RHS\n",
    "rhs = Compute_RHS(rv, testfunc, do_simplifications)\n"
   ]
  },
  {
   "cell_type": "markdown",
   "metadata": {},
   "source": [
    "## COMPUTE LHS\n",
    "\n",
    "In order to compute the LHS by differentiation, we explicitly introduce the dependency \n",
    "of the stress on the strain (symmetric gradient of the velocity). This way of proceeding is\n",
    "needed in order to take into account nonlinear material behaviours."
   ]
  },
  {
   "cell_type": "code",
   "execution_count": 72,
   "metadata": {
    "collapsed": true
   },
   "outputs": [],
   "source": [
    "strain = grad_sym_voigtform(DN,v)\n",
    "\n",
    "#here we substitute \"stress\" by \"C*strain\"\n",
    "rhs_to_derive = SubstituteMatrixValue( rhs.copy(), stress, C*strain )\n",
    "\n",
    "##obtain LHS by symbolic derivation\n",
    "lhs = Compute_LHS(rhs_to_derive, testfunc, dofs, do_simplifications)\n"
   ]
  },
  {
   "cell_type": "markdown",
   "metadata": {},
   "source": [
    "# Expression employed for the stabilization coefficients\n",
    "\n",
    "we employ the shape function gradients in the estimation of the inverse of h. The idea here is that the norm of the gradient of a shape functions is (for a simplex element) the inverse of the height associated to the node of interest"
   ]
  },
  {
   "cell_type": "code",
   "execution_count": 73,
   "metadata": {
    "collapsed": true
   },
   "outputs": [],
   "source": [
    "#simplified way of computing tau\n",
    "if(dim == 2):\n",
    "    mu_eq = C[2,2]\n",
    "elif(dim == 3):\n",
    "    mu_eq = (C[3,3]+C[4,4]+C[5,5])/3\n",
    "    \n",
    "inv_h2 = 0\n",
    "for i in range(nnodes):\n",
    "    for j in range(dim):\n",
    "        inv_h2 += DN[i,j]**2\n",
    "    \n",
    "tau_denom = 3*mu_eq*inv_h2"
   ]
  },
  {
   "cell_type": "markdown",
   "metadata": {},
   "source": [
    "## CODE GENERATION\n",
    "\n",
    "here we do the code generation by substituting into the template file"
   ]
  },
  {
   "cell_type": "code",
   "execution_count": 74,
   "metadata": {
    "collapsed": true
   },
   "outputs": [],
   "source": [
    "templatefile = open(\"stokes_weakly_compressible_cpp_template_3D.cpp\")\n",
    "outstring=templatefile.read()\n",
    "\n",
    "outstring = outstring.replace(\"//substitute_lhs\",   OutputMatrix_CollectingFactors(lhs,\"lhs\",mode) )\n",
    "outstring = outstring.replace(\"//substitute_rhs\", OutputVector_CollectingFactors(rhs,\"rhs\",mode))\n",
    "outstring = outstring.replace(\"//replace_tau_denom\", OutputSymbolicVariable(tau_denom,mode) )\n",
    "\n",
    "out = open(\"stokes_3D_weakly_compressible.cpp\",'w')\n",
    "out.write(outstring)\n",
    "\n",
    "out.close()"
   ]
  },
  {
   "cell_type": "code",
   "execution_count": null,
   "metadata": {
    "collapsed": true
   },
   "outputs": [],
   "source": []
  },
  {
   "cell_type": "code",
   "execution_count": null,
   "metadata": {
    "collapsed": true
   },
   "outputs": [],
   "source": []
  }
 ],
 "metadata": {
  "kernelspec": {
   "display_name": "Python 3",
   "language": "python",
   "name": "python3"
  },
  "language_info": {
   "codemirror_mode": {
    "name": "ipython",
    "version": 3
   },
   "file_extension": ".py",
   "mimetype": "text/x-python",
   "name": "python",
   "nbconvert_exporter": "python",
   "pygments_lexer": "ipython3",
   "version": "3.5.2"
  }
 },
 "nbformat": 4,
 "nbformat_minor": 2
}
